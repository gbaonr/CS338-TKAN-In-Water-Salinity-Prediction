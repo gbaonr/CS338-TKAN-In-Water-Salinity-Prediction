{
 "cells": [
  {
   "cell_type": "markdown",
   "id": "014d99a3",
   "metadata": {
    "id": "5paDGehEKwDY",
    "papermill": {
     "duration": 0.010069,
     "end_time": "2025-05-30T15:02:44.649379",
     "exception": false,
     "start_time": "2025-05-30T15:02:44.639310",
     "status": "completed"
    },
    "tags": []
   },
   "source": [
    "# Data preprocessing"
   ]
  },
  {
   "cell_type": "code",
   "execution_count": 1,
   "id": "a8f5f8bd",
   "metadata": {
    "execution": {
     "iopub.execute_input": "2025-05-30T15:02:44.661573Z",
     "iopub.status.busy": "2025-05-30T15:02:44.661199Z",
     "iopub.status.idle": "2025-05-30T15:02:46.455030Z",
     "shell.execute_reply": "2025-05-30T15:02:46.454289Z"
    },
    "id": "jYp76uZTKwDZ",
    "papermill": {
     "duration": 1.801374,
     "end_time": "2025-05-30T15:02:46.456683",
     "exception": false,
     "start_time": "2025-05-30T15:02:44.655309",
     "status": "completed"
    },
    "tags": []
   },
   "outputs": [],
   "source": [
    "import pandas as pd\n",
    "import numpy as np"
   ]
  },
  {
   "cell_type": "code",
   "execution_count": 2,
   "id": "951e07b3",
   "metadata": {
    "execution": {
     "iopub.execute_input": "2025-05-30T15:02:46.468757Z",
     "iopub.status.busy": "2025-05-30T15:02:46.468308Z",
     "iopub.status.idle": "2025-05-30T15:02:46.473809Z",
     "shell.execute_reply": "2025-05-30T15:02:46.473042Z"
    },
    "id": "t6Abtk4Pq9zW",
    "papermill": {
     "duration": 0.013512,
     "end_time": "2025-05-30T15:02:46.475337",
     "exception": false,
     "start_time": "2025-05-30T15:02:46.461825",
     "status": "completed"
    },
    "tags": []
   },
   "outputs": [],
   "source": [
    "def check_nan(array, array_name):\n",
    "    if np.any(np.isnan(array)):\n",
    "        nan_indices = np.where(np.isnan(array))\n",
    "        print(f\"Found {len(nan_indices[0])} nan in {array_name}\")\n",
    "        for idx in zip(*nan_indices):\n",
    "            id = tuple(int(x) for x in idx)\n",
    "            # print(f\"  Index {id}: Value = {array[idx]}\")\n",
    "\n",
    "    else:\n",
    "        print(f\"No NaN in {array_name}\")"
   ]
  },
  {
   "cell_type": "markdown",
   "id": "33396d2e",
   "metadata": {
    "id": "PKuISip9rWJL",
    "papermill": {
     "duration": 0.004738,
     "end_time": "2025-05-30T15:02:46.485357",
     "exception": false,
     "start_time": "2025-05-30T15:02:46.480619",
     "status": "completed"
    },
    "tags": []
   },
   "source": [
    "## **Drop columns**"
   ]
  },
  {
   "cell_type": "code",
   "execution_count": 3,
   "id": "a2480397",
   "metadata": {
    "colab": {
     "base_uri": "https://localhost:8080/",
     "height": 388
    },
    "execution": {
     "iopub.execute_input": "2025-05-30T15:02:46.496242Z",
     "iopub.status.busy": "2025-05-30T15:02:46.495884Z",
     "iopub.status.idle": "2025-05-30T15:02:46.679736Z",
     "shell.execute_reply": "2025-05-30T15:02:46.678298Z"
    },
    "id": "pzx7vvGzKwDb",
    "outputId": "8ce9050e-7c85-45a7-cbf5-15e71eb60132",
    "papermill": {
     "duration": 0.190965,
     "end_time": "2025-05-30T15:02:46.681158",
     "exception": true,
     "start_time": "2025-05-30T15:02:46.490193",
     "status": "failed"
    },
    "tags": []
   },
   "outputs": [
    {
     "ename": "FileNotFoundError",
     "evalue": "[Errno 2] No such file or directory: '/content/CLN_SG_V2.xlsx'",
     "output_type": "error",
     "traceback": [
      "\u001b[0;31m---------------------------------------------------------------------------\u001b[0m",
      "\u001b[0;31mFileNotFoundError\u001b[0m                         Traceback (most recent call last)",
      "\u001b[0;32m/tmp/ipykernel_13/3800683668.py\u001b[0m in \u001b[0;36m<cell line: 0>\u001b[0;34m()\u001b[0m\n\u001b[1;32m      1\u001b[0m \u001b[0mfile_path\u001b[0m \u001b[0;34m=\u001b[0m \u001b[0;34m\"/content/CLN_SG_V2.xlsx\"\u001b[0m\u001b[0;34m\u001b[0m\u001b[0;34m\u001b[0m\u001b[0m\n\u001b[1;32m      2\u001b[0m \u001b[0;34m\u001b[0m\u001b[0m\n\u001b[0;32m----> 3\u001b[0;31m \u001b[0mdf\u001b[0m \u001b[0;34m=\u001b[0m \u001b[0mpd\u001b[0m\u001b[0;34m.\u001b[0m\u001b[0mread_excel\u001b[0m\u001b[0;34m(\u001b[0m\u001b[0mfile_path\u001b[0m\u001b[0;34m)\u001b[0m\u001b[0;34m\u001b[0m\u001b[0;34m\u001b[0m\u001b[0m\n\u001b[0m\u001b[1;32m      4\u001b[0m \u001b[0;34m\u001b[0m\u001b[0m\n\u001b[1;32m      5\u001b[0m \u001b[0;34m\u001b[0m\u001b[0m\n",
      "\u001b[0;32m/usr/local/lib/python3.11/dist-packages/pandas/io/excel/_base.py\u001b[0m in \u001b[0;36mread_excel\u001b[0;34m(io, sheet_name, header, names, index_col, usecols, dtype, engine, converters, true_values, false_values, skiprows, nrows, na_values, keep_default_na, na_filter, verbose, parse_dates, date_parser, date_format, thousands, decimal, comment, skipfooter, storage_options, dtype_backend, engine_kwargs)\u001b[0m\n\u001b[1;32m    493\u001b[0m     \u001b[0;32mif\u001b[0m \u001b[0;32mnot\u001b[0m \u001b[0misinstance\u001b[0m\u001b[0;34m(\u001b[0m\u001b[0mio\u001b[0m\u001b[0;34m,\u001b[0m \u001b[0mExcelFile\u001b[0m\u001b[0;34m)\u001b[0m\u001b[0;34m:\u001b[0m\u001b[0;34m\u001b[0m\u001b[0;34m\u001b[0m\u001b[0m\n\u001b[1;32m    494\u001b[0m         \u001b[0mshould_close\u001b[0m \u001b[0;34m=\u001b[0m \u001b[0;32mTrue\u001b[0m\u001b[0;34m\u001b[0m\u001b[0;34m\u001b[0m\u001b[0m\n\u001b[0;32m--> 495\u001b[0;31m         io = ExcelFile(\n\u001b[0m\u001b[1;32m    496\u001b[0m             \u001b[0mio\u001b[0m\u001b[0;34m,\u001b[0m\u001b[0;34m\u001b[0m\u001b[0;34m\u001b[0m\u001b[0m\n\u001b[1;32m    497\u001b[0m             \u001b[0mstorage_options\u001b[0m\u001b[0;34m=\u001b[0m\u001b[0mstorage_options\u001b[0m\u001b[0;34m,\u001b[0m\u001b[0;34m\u001b[0m\u001b[0;34m\u001b[0m\u001b[0m\n",
      "\u001b[0;32m/usr/local/lib/python3.11/dist-packages/pandas/io/excel/_base.py\u001b[0m in \u001b[0;36m__init__\u001b[0;34m(self, path_or_buffer, engine, storage_options, engine_kwargs)\u001b[0m\n\u001b[1;32m   1548\u001b[0m                 \u001b[0mext\u001b[0m \u001b[0;34m=\u001b[0m \u001b[0;34m\"xls\"\u001b[0m\u001b[0;34m\u001b[0m\u001b[0;34m\u001b[0m\u001b[0m\n\u001b[1;32m   1549\u001b[0m             \u001b[0;32melse\u001b[0m\u001b[0;34m:\u001b[0m\u001b[0;34m\u001b[0m\u001b[0;34m\u001b[0m\u001b[0m\n\u001b[0;32m-> 1550\u001b[0;31m                 ext = inspect_excel_format(\n\u001b[0m\u001b[1;32m   1551\u001b[0m                     \u001b[0mcontent_or_path\u001b[0m\u001b[0;34m=\u001b[0m\u001b[0mpath_or_buffer\u001b[0m\u001b[0;34m,\u001b[0m \u001b[0mstorage_options\u001b[0m\u001b[0;34m=\u001b[0m\u001b[0mstorage_options\u001b[0m\u001b[0;34m\u001b[0m\u001b[0;34m\u001b[0m\u001b[0m\n\u001b[1;32m   1552\u001b[0m                 )\n",
      "\u001b[0;32m/usr/local/lib/python3.11/dist-packages/pandas/io/excel/_base.py\u001b[0m in \u001b[0;36minspect_excel_format\u001b[0;34m(content_or_path, storage_options)\u001b[0m\n\u001b[1;32m   1400\u001b[0m         \u001b[0mcontent_or_path\u001b[0m \u001b[0;34m=\u001b[0m \u001b[0mBytesIO\u001b[0m\u001b[0;34m(\u001b[0m\u001b[0mcontent_or_path\u001b[0m\u001b[0;34m)\u001b[0m\u001b[0;34m\u001b[0m\u001b[0;34m\u001b[0m\u001b[0m\n\u001b[1;32m   1401\u001b[0m \u001b[0;34m\u001b[0m\u001b[0m\n\u001b[0;32m-> 1402\u001b[0;31m     with get_handle(\n\u001b[0m\u001b[1;32m   1403\u001b[0m         \u001b[0mcontent_or_path\u001b[0m\u001b[0;34m,\u001b[0m \u001b[0;34m\"rb\"\u001b[0m\u001b[0;34m,\u001b[0m \u001b[0mstorage_options\u001b[0m\u001b[0;34m=\u001b[0m\u001b[0mstorage_options\u001b[0m\u001b[0;34m,\u001b[0m \u001b[0mis_text\u001b[0m\u001b[0;34m=\u001b[0m\u001b[0;32mFalse\u001b[0m\u001b[0;34m\u001b[0m\u001b[0;34m\u001b[0m\u001b[0m\n\u001b[1;32m   1404\u001b[0m     ) as handle:\n",
      "\u001b[0;32m/usr/local/lib/python3.11/dist-packages/pandas/io/common.py\u001b[0m in \u001b[0;36mget_handle\u001b[0;34m(path_or_buf, mode, encoding, compression, memory_map, is_text, errors, storage_options)\u001b[0m\n\u001b[1;32m    880\u001b[0m         \u001b[0;32melse\u001b[0m\u001b[0;34m:\u001b[0m\u001b[0;34m\u001b[0m\u001b[0;34m\u001b[0m\u001b[0m\n\u001b[1;32m    881\u001b[0m             \u001b[0;31m# Binary mode\u001b[0m\u001b[0;34m\u001b[0m\u001b[0;34m\u001b[0m\u001b[0m\n\u001b[0;32m--> 882\u001b[0;31m             \u001b[0mhandle\u001b[0m \u001b[0;34m=\u001b[0m \u001b[0mopen\u001b[0m\u001b[0;34m(\u001b[0m\u001b[0mhandle\u001b[0m\u001b[0;34m,\u001b[0m \u001b[0mioargs\u001b[0m\u001b[0;34m.\u001b[0m\u001b[0mmode\u001b[0m\u001b[0;34m)\u001b[0m\u001b[0;34m\u001b[0m\u001b[0;34m\u001b[0m\u001b[0m\n\u001b[0m\u001b[1;32m    883\u001b[0m         \u001b[0mhandles\u001b[0m\u001b[0;34m.\u001b[0m\u001b[0mappend\u001b[0m\u001b[0;34m(\u001b[0m\u001b[0mhandle\u001b[0m\u001b[0;34m)\u001b[0m\u001b[0;34m\u001b[0m\u001b[0;34m\u001b[0m\u001b[0m\n\u001b[1;32m    884\u001b[0m \u001b[0;34m\u001b[0m\u001b[0m\n",
      "\u001b[0;31mFileNotFoundError\u001b[0m: [Errno 2] No such file or directory: '/content/CLN_SG_V2.xlsx'"
     ]
    }
   ],
   "source": [
    "file_path = \"/content/CLN_SG_V2.xlsx\"\n",
    "\n",
    "df = pd.read_excel(file_path)\n",
    "\n",
    "\n",
    "# Drop columns\n",
    "null_count = df.isnull().mean()*100\n",
    "print(null_count.sort_values(ascending=False))\n",
    "\n",
    "kept_cols = df.columns[null_count <= 10]\n",
    "removed_cols = df.columns[null_count > 10]\n",
    "df = df[kept_cols]\n",
    "\n",
    "print(f\"kept cols: {kept_cols.to_list()}\")\n",
    "print(f\"removed cols: {removed_cols.to_list()}\")\n",
    "\n",
    "# data.isna().sum()\n",
    "\n",
    "print(f\"kept {len(kept_cols.to_list())} cols\")\n",
    "print(f\"removed {len(removed_cols.to_list())} cols\")\n"
   ]
  },
  {
   "cell_type": "markdown",
   "id": "3270d36f",
   "metadata": {
    "id": "B2G9ZyCsri9v",
    "papermill": {
     "duration": null,
     "end_time": null,
     "exception": null,
     "start_time": null,
     "status": "pending"
    },
    "tags": []
   },
   "source": [
    "## **Outliers**"
   ]
  },
  {
   "cell_type": "code",
   "execution_count": null,
   "id": "22c5d4f7",
   "metadata": {
    "id": "SHgWX2lurbgs",
    "papermill": {
     "duration": null,
     "end_time": null,
     "exception": null,
     "start_time": null,
     "status": "pending"
    },
    "tags": []
   },
   "outputs": [],
   "source": [
    "df_clean = df.copy()\n",
    "\n",
    "for col in df_clean.select_dtypes(include='number').columns:\n",
    "    mean = df_clean[col].mean()\n",
    "    std = df_clean[col].std()\n",
    "    lower = mean - 3 * std\n",
    "    upper = mean + 3 * std\n",
    "\n",
    "    df_clean[col] = np.where((df_clean[col] < lower) | (df_clean[col] > upper), np.nan, df_clean[col])"
   ]
  },
  {
   "cell_type": "markdown",
   "id": "cf623569",
   "metadata": {
    "id": "lf6d0j4brqHI",
    "papermill": {
     "duration": null,
     "end_time": null,
     "exception": null,
     "start_time": null,
     "status": "pending"
    },
    "tags": []
   },
   "source": [
    "## **Missing values**"
   ]
  },
  {
   "cell_type": "code",
   "execution_count": null,
   "id": "540ba71f",
   "metadata": {
    "id": "xJNW7OtwrtFY",
    "papermill": {
     "duration": null,
     "end_time": null,
     "exception": null,
     "start_time": null,
     "status": "pending"
    },
    "tags": []
   },
   "outputs": [],
   "source": [
    "df_clean = df_clean.interpolate(method='linear')\n",
    "\n",
    "df_clean = df_clean.fillna(method='bfill').fillna(method='ffill')\n",
    "df = df_clean\n",
    "df.isnull().sum().sum()"
   ]
  },
  {
   "cell_type": "markdown",
   "id": "9f75963b",
   "metadata": {
    "id": "WtZKxRKJr0qE",
    "papermill": {
     "duration": null,
     "end_time": null,
     "exception": null,
     "start_time": null,
     "status": "pending"
    },
    "tags": []
   },
   "source": [
    "## **Features selection**"
   ]
  },
  {
   "cell_type": "code",
   "execution_count": null,
   "id": "fba83967",
   "metadata": {
    "id": "p5MhJrYjr3aK",
    "papermill": {
     "duration": null,
     "end_time": null,
     "exception": null,
     "start_time": null,
     "status": "pending"
    },
    "tags": []
   },
   "outputs": [],
   "source": [
    "correlations = df.corr(numeric_only=True)['Man_song_saigon'].drop('Man_song_saigon')\n",
    "\n",
    "selected_features = correlations[correlations > 0.5].index.tolist()\n",
    "\n",
    "selected_features += ['Man_song_saigon', 'Ngay']\n",
    "\n",
    "df_selected = df[selected_features] if selected_features else df[['Man_song_saigon', 'Ngay']]\n",
    "\n",
    "df = df_selected\n",
    "df.info()\n"
   ]
  },
  {
   "cell_type": "markdown",
   "id": "1e78bd26",
   "metadata": {
    "id": "bma0lVuRsH7K",
    "papermill": {
     "duration": null,
     "end_time": null,
     "exception": null,
     "start_time": null,
     "status": "pending"
    },
    "tags": []
   },
   "source": [
    "## **Set index, choose col**"
   ]
  },
  {
   "cell_type": "code",
   "execution_count": null,
   "id": "00cc1146",
   "metadata": {
    "id": "OoJPWe2ZsFaj",
    "papermill": {
     "duration": null,
     "end_time": null,
     "exception": null,
     "start_time": null,
     "status": "pending"
    },
    "tags": []
   },
   "outputs": [],
   "source": [
    "df = df_selected\n",
    "df.info()\n",
    "\n",
    "df.set_index('Ngay', inplace=True)\n",
    "\n",
    "chosen_col = ['Man_song_saigon', 'Dodan_vao_nha_may', 'pH_Song_SG']\n",
    "df = df[chosen_col]\n",
    "\n",
    "df.head()"
   ]
  },
  {
   "cell_type": "markdown",
   "id": "36f63913",
   "metadata": {
    "id": "mLulN9S6sMO3",
    "papermill": {
     "duration": null,
     "end_time": null,
     "exception": null,
     "start_time": null,
     "status": "pending"
    },
    "tags": []
   },
   "source": [
    "## **CREATE DATA**"
   ]
  },
  {
   "cell_type": "code",
   "execution_count": null,
   "id": "4c1bb3f7",
   "metadata": {
    "id": "K-U-sgd0sPA2",
    "papermill": {
     "duration": null,
     "end_time": null,
     "exception": null,
     "start_time": null,
     "status": "pending"
    },
    "tags": []
   },
   "outputs": [],
   "source": [
    "column_index = df.columns.get_loc('Man_song_saigon')\n",
    "print(f\"Cột 'Man_song_saigon' là cột số: {column_index}\")\n",
    "\n",
    "# create data\n",
    "import os\n",
    "from sklearn.preprocessing import StandardScaler\n",
    "import joblib\n",
    "\n",
    "def create_sequences(data, target_col, window_size, forecast_horizon):\n",
    "    X, y = [], []\n",
    "    for i in range(len(data) - window_size - forecast_horizon + 1):\n",
    "        window = data.iloc[i : i + window_size].values\n",
    "        target_seq = data.iloc[i + window_size : i + window_size + forecast_horizon, target_col].values\n",
    "        X.append(window)\n",
    "        y.append(target_seq)\n",
    "    return np.array(X), np.array(y)\n",
    "\n",
    "output = {}\n",
    "\n",
    "# Các tham số\n",
    "n_aheads = [1, 3, 7]\n",
    "window_sizes = [7, 15, 30]\n",
    "vars = [['Man_song_saigon'], ['Man_song_saigon', 'Dodan_vao_nha_may', 'pH_Song_SG']]\n",
    "\n",
    "for window_size in window_sizes:\n",
    "    for n_ahead in n_aheads:\n",
    "        for var in vars:\n",
    "            # print(f\"Forecast horizon: {n_ahead}\")\n",
    "            # print(f\"Window size: {window_size}\")\n",
    "            # print(f\"Variable: {var}\\n\")\n",
    "\n",
    "            forecast_horizon = n_ahead\n",
    "\n",
    "            # Tạo chuỗi\n",
    "            X_all, y_all = create_sequences(df[var], target_col=0, window_size=window_size, forecast_horizon=forecast_horizon)\n",
    "\n",
    "            # Chia 60% train, 20% val, 20% test\n",
    "            n = len(X_all)\n",
    "            train_end = int(n * 0.6)\n",
    "            val_end = int(n * 0.8)\n",
    "\n",
    "            X_train, y_train = X_all[:train_end], y_all[:train_end]\n",
    "            X_val, y_val = X_all[train_end:val_end], y_all[train_end:val_end]\n",
    "            X_test, y_test = X_all[val_end:], y_all[val_end:]\n",
    "\n",
    "            # Khởi tạo StandardScaler\n",
    "            scaler_X = StandardScaler()\n",
    "            scaler_y = StandardScaler()\n",
    "\n",
    "            # Reshape X_train để chuẩn hóa\n",
    "            X_train_reshaped = X_train.reshape(-1, X_train.shape[-1])\n",
    "            X_train_scaled = scaler_X.fit_transform(X_train_reshaped)\n",
    "            X_train_scaled = X_train_scaled.reshape(X_train.shape)\n",
    "\n",
    "            X_val_reshaped = X_val.reshape(-1, X_val.shape[-1])\n",
    "            X_val_scaled = scaler_X.transform(X_val_reshaped)\n",
    "            X_val_scaled = X_val_scaled.reshape(X_val.shape)\n",
    "\n",
    "            X_test_reshaped = X_test.reshape(-1, X_test.shape[-1])\n",
    "            X_test_scaled = scaler_X.transform(X_test_reshaped)\n",
    "            X_test_scaled = X_test_scaled.reshape(X_test.shape)\n",
    "\n",
    "            # Chuẩn hóa y\n",
    "            y_train_scaled = scaler_y.fit_transform(y_train)\n",
    "            y_val_scaled = scaler_y.transform(y_val)\n",
    "            y_test_scaled = scaler_y.transform(y_test)\n",
    "\n",
    "            file_name = f\"ws{window_size}_fh{n_ahead}_var{len(var)}\"\n",
    "            output.update({file_name:\n",
    "                {\n",
    "                    \"X_train\": X_train_scaled,\n",
    "                    \"y_train\": y_train_scaled,\n",
    "                    \"X_test\": X_test_scaled,\n",
    "                    \"y_test\": y_test_scaled,\n",
    "                    \"X_val\": X_val_scaled,\n",
    "                    \"y_val\": y_val_scaled,\n",
    "                    \"scaler_X\": scaler_X,\n",
    "                    \"scaler_y\": scaler_y,\n",
    "                }})\n",
    "\n",
    "joblib.dump(output, 'data.pkl')"
   ]
  },
  {
   "cell_type": "code",
   "execution_count": null,
   "id": "c43201ac",
   "metadata": {
    "id": "b6zHxGYALNfL",
    "papermill": {
     "duration": null,
     "end_time": null,
     "exception": null,
     "start_time": null,
     "status": "pending"
    },
    "tags": []
   },
   "outputs": [],
   "source": [
    "import os\n",
    "import joblib\n",
    "with open(\"/content/data.pkl\", \"rb\") as file:\n",
    "    output = joblib.load(file)\n",
    "print(output.keys())\n",
    "print(type(output))\n"
   ]
  },
  {
   "cell_type": "markdown",
   "id": "da8ae418",
   "metadata": {
    "id": "YLLg1KWyKwDl",
    "papermill": {
     "duration": null,
     "end_time": null,
     "exception": null,
     "start_time": null,
     "status": "pending"
    },
    "tags": []
   },
   "source": [
    "# **MODELING**"
   ]
  },
  {
   "cell_type": "markdown",
   "id": "2a67e7ed",
   "metadata": {
    "id": "ARlcdtrpKwDl",
    "papermill": {
     "duration": null,
     "end_time": null,
     "exception": null,
     "start_time": null,
     "status": "pending"
    },
    "tags": []
   },
   "source": [
    "**TKAN**"
   ]
  },
  {
   "cell_type": "code",
   "execution_count": null,
   "id": "3632939c",
   "metadata": {
    "id": "yXCOt6sRKwDl",
    "papermill": {
     "duration": null,
     "end_time": null,
     "exception": null,
     "start_time": null,
     "status": "pending"
    },
    "tags": []
   },
   "outputs": [],
   "source": [
    "!pip install tkan -q"
   ]
  },
  {
   "cell_type": "code",
   "execution_count": null,
   "id": "3c552fa6",
   "metadata": {
    "id": "h5JZAS0FKwDm",
    "papermill": {
     "duration": null,
     "end_time": null,
     "exception": null,
     "start_time": null,
     "status": "pending"
    },
    "tags": []
   },
   "outputs": [],
   "source": [
    "import numpy as np\n",
    "import pandas as pd\n",
    "import time\n",
    "import os\n",
    "import re\n",
    "import matplotlib.pyplot as plt\n",
    "import seaborn as sns\n",
    "import tensorflow as tf\n",
    "from keras import Sequential, Input\n",
    "from keras.layers import Dense, LSTM\n",
    "from keras.optimizers import Adam\n",
    "from keras.callbacks import EarlyStopping\n",
    "from sklearn.metrics import mean_squared_error\n",
    "from sklearn.preprocessing import MinMaxScaler, StandardScaler\n",
    "from tkan import TKAN\n",
    "import pickle\n",
    "from tqdm import tqdm"
   ]
  },
  {
   "cell_type": "code",
   "execution_count": null,
   "id": "d45b16cb",
   "metadata": {
    "id": "u94_PJfotMGL",
    "papermill": {
     "duration": null,
     "end_time": null,
     "exception": null,
     "start_time": null,
     "status": "pending"
    },
    "tags": []
   },
   "outputs": [],
   "source": [
    "# Disable XLA to prevent InvalidArgumentError\n",
    "os.environ['TF_XLA_FLAGS'] = '--tf_xla_auto_jit=0'\n",
    "tf.config.optimizer.set_jit(False)\n",
    "\n",
    "# Configure backend\n",
    "os.environ['KERAS_BACKEND'] = 'jax'\n",
    "\n",
    "# Evaluation functions\n",
    "def root_mean_squared_error(y_true, y_pred):\n",
    "    return np.sqrt(mean_squared_error(y_true, y_pred))\n",
    "\n",
    "def mean_absolute_error(y_true, y_pred):\n",
    "    return np.mean(np.abs(y_true - y_pred))\n",
    "\n",
    "def mean_absolute_percentage_error(y_true, y_pred):\n",
    "    non_zero = y_true != 0\n",
    "    if np.any(non_zero):\n",
    "        return 100 * np.mean(np.abs((y_true[non_zero] - y_pred[non_zero]) / y_true[non_zero]))\n",
    "    return np.inf\n",
    "\n",
    "# Early stopping callback\n",
    "def callbacks():\n",
    "    return [EarlyStopping(monitor='val_loss', patience=5, restore_best_weights=True)]"
   ]
  },
  {
   "cell_type": "markdown",
   "id": "e51cc138",
   "metadata": {
    "id": "IGLkViql9Bn-",
    "papermill": {
     "duration": null,
     "end_time": null,
     "exception": null,
     "start_time": null,
     "status": "pending"
    },
    "tags": []
   },
   "source": [
    "##**TKAN**"
   ]
  },
  {
   "cell_type": "code",
   "execution_count": null,
   "id": "303af347",
   "metadata": {
    "collapsed": true,
    "id": "smVTu4cnKwDm",
    "papermill": {
     "duration": null,
     "end_time": null,
     "exception": null,
     "start_time": null,
     "status": "pending"
    },
    "tags": []
   },
   "outputs": [],
   "source": [
    "\n",
    "\n",
    "# Training parameters\n",
    "BATCH_SIZE = 128\n",
    "N_MAX_EPOCHS = 50\n",
    "model_id = 'TKAN'\n",
    "n_aheads = [1, 3, 7]\n",
    "\n",
    "N_RUNS = 10\n",
    "\n",
    "# Initialize result dictionaries\n",
    "results_mae = {model_id: {n_ahead: [] for n_ahead in n_aheads}}\n",
    "results_mape = {model_id: {n_ahead: [] for n_ahead in n_aheads}}\n",
    "time_results = {model_id: {n_ahead: [] for n_ahead in n_aheads}}\n",
    "histories = {model_id: {n_ahead: [] for n_ahead in n_aheads}}\n",
    "result_rows = []\n",
    "tkan_models = {}\n",
    "\n",
    "\n",
    "for i in tqdm(range(N_RUNS), desc='RUN: '):\n",
    "    # Process each dataset\n",
    "    for data in output:\n",
    "        match = re.search(r'ws(\\d+)_fh(\\d+)_var(\\d+)', data)\n",
    "        if not match:\n",
    "            print(f\"Không khớp định dạng: {data}\")\n",
    "            continue\n",
    "\n",
    "        ws = int(match.group(1))\n",
    "        n_ahead = int(match.group(2))\n",
    "        n_var = int(match.group(3))\n",
    "        print(f\"ws = {ws}, n_ahead = {n_ahead}, n_var = {n_var}, Data: {data}\")\n",
    "\n",
    "        # Load data\n",
    "        data_dict = output[data]\n",
    "        X_train_scaled = data_dict['X_train']\n",
    "        X_val_scaled = data_dict['X_val']\n",
    "        X_test_scaled = data_dict['X_test']\n",
    "        y_train_scaled = data_dict['y_train']\n",
    "        y_val_scaled = data_dict['y_val']\n",
    "        y_test_scaled = data_dict['y_test']\n",
    "        scaler_y = data_dict['scaler_y']\n",
    "\n",
    "        # Define TKAN model\n",
    "        if n_ahead == 1:\n",
    "            model = Sequential([\n",
    "                Input(shape=X_train_scaled.shape[1:]),\n",
    "                TKAN(units=8,\n",
    "                     sub_kan_input_dim=15,\n",
    "                     sub_kan_output_dim=15,\n",
    "                     return_sequences=False,\n",
    "                     activation='tanh',\n",
    "                     recurrent_activation='sigmoid'),\n",
    "                Dense(units=n_ahead, activation='linear')\n",
    "            ], name=model_id)\n",
    "        elif n_ahead == 3:\n",
    "            model = Sequential([\n",
    "                Input(shape=X_train_scaled.shape[1:]),\n",
    "                TKAN(units=32,\n",
    "                     sub_kan_input_dim=30,\n",
    "                     sub_kan_output_dim=30,\n",
    "                     return_sequences=False,\n",
    "                     activation='tanh',\n",
    "                     recurrent_activation='sigmoid'),\n",
    "                Dense(units=n_ahead, activation='linear')\n",
    "            ], name=model_id)\n",
    "        elif n_ahead == 7:\n",
    "            model = Sequential([\n",
    "                Input(shape=X_train_scaled.shape[1:]),\n",
    "                TKAN(units=64,\n",
    "                     sub_kan_input_dim=40,\n",
    "                     sub_kan_output_dim=40,\n",
    "                     return_sequences=False,\n",
    "                     activation='tanh',\n",
    "                     recurrent_activation='sigmoid'),\n",
    "                Dense(units=n_ahead, activation='linear')\n",
    "            ], name=model_id)\n",
    "        else:\n",
    "            print(f\"Unsupported n_ahead: {n_ahead}\")\n",
    "            continue\n",
    "\n",
    "        # Compile model\n",
    "        optimizer = Adam(0.001)\n",
    "        model.compile(optimizer=optimizer, loss='mae', metrics=['mae'], jit_compile=False)\n",
    "\n",
    "        # Train model\n",
    "        start_time = time.time()\n",
    "        history = model.fit(\n",
    "            X_train_scaled, y_train_scaled,\n",
    "            validation_data=(X_val_scaled, y_val_scaled),\n",
    "            batch_size=BATCH_SIZE,\n",
    "            epochs=N_MAX_EPOCHS,\n",
    "            callbacks=callbacks(),\n",
    "            shuffle=False,\n",
    "            verbose=False\n",
    "        )\n",
    "        end_time = time.time()\n",
    "        training_time = end_time - start_time\n",
    "\n",
    "        # Store history\n",
    "        histories[model_id][n_ahead].append(history.history)\n",
    "\n",
    "        # Predict and inverse scale\n",
    "        preds_scaled = model.predict(X_test_scaled, verbose=False)\n",
    "        preds = scaler_y.inverse_transform(preds_scaled)\n",
    "        y_test_orig = scaler_y.inverse_transform(y_test_scaled)\n",
    "\n",
    "        # Calculate metrics\n",
    "        mae = mean_absolute_error(y_true=y_test_orig, y_pred=preds)\n",
    "        mape = mean_absolute_percentage_error(y_true=y_test_orig, y_pred=preds)\n",
    "\n",
    "        # Store results\n",
    "        results_mae[model_id][n_ahead].append(mae)\n",
    "        results_mape[model_id][n_ahead].append(mape)\n",
    "        time_results[model_id][n_ahead].append(training_time)\n",
    "\n",
    "        # Store result row for CSV\n",
    "        result_rows.append({\n",
    "            'dataset': data,\n",
    "            'model': model_id,\n",
    "            'n_ahead': n_ahead,\n",
    "            'ws': ws,\n",
    "            'n_var': n_var,\n",
    "            'mae': mae,\n",
    "            'mape': mape,\n",
    "            'training_time': training_time,\n",
    "            'run': i\n",
    "        })\n",
    "\n",
    "        # Print results\n",
    "        print(f\"\\t{model_id} - Time: {training_time:.2f}s, MAE: {mae:.4f}, MAPE: {mape:.2f}%\")\n",
    "        print()\n",
    "\n",
    "        model_key = f\"{model_id}_{data}\"\n",
    "        tkan_models[model_key] = model\n",
    "        # Clean up\n",
    "        del model\n",
    "        del optimizer\n",
    "\n",
    "    # Save results to CSV\n",
    "    results_df = pd.DataFrame(result_rows)\n",
    "    results_df.to_csv('tkan_results.csv', index=False)\n",
    "    print(\"TKAN results saved to 'tkan_results.csv'\")\n",
    "\n",
    "    with open('tkan_models.pkl', 'wb') as f:\n",
    "        pickle.dump(tkan_models, f)"
   ]
  },
  {
   "cell_type": "code",
   "execution_count": null,
   "id": "ee68ecc3",
   "metadata": {
    "id": "7fdLbAZRqW5E",
    "papermill": {
     "duration": null,
     "end_time": null,
     "exception": null,
     "start_time": null,
     "status": "pending"
    },
    "tags": []
   },
   "outputs": [],
   "source": [
    "# CALCULATE AVERAGE AND SAVE\n",
    "tkan_df = pd.read_csv('tkan_results.csv')\n",
    "runs = tkan_df['run'].unique().tolist()\n",
    "print(runs)\n",
    "tkan_df_sorted = tkan_df.sort_values(by=['run'], ascending=True)\n",
    "\n",
    "\n",
    "# cal avg\n",
    "tkan_avg = tkan_df.groupby(['dataset', 'model', 'ws', 'n_ahead', 'n_var']).agg({\n",
    "    'mae': 'mean',\n",
    "    'mape': 'mean',\n",
    "    'training_time': 'mean'\n",
    "}).reset_index()\n",
    "\n",
    "\n",
    "print(tkan_avg)\n",
    "tkan_avg.to_csv('tkan_avg.csv', index=False)"
   ]
  },
  {
   "cell_type": "markdown",
   "id": "12a303b8",
   "metadata": {
    "id": "wvS1WoUpKwDn",
    "papermill": {
     "duration": null,
     "end_time": null,
     "exception": null,
     "start_time": null,
     "status": "pending"
    },
    "tags": []
   },
   "source": [
    "##**LSTM**"
   ]
  },
  {
   "cell_type": "code",
   "execution_count": null,
   "id": "31fe97a3",
   "metadata": {
    "id": "DkC8tcz9KwDo",
    "papermill": {
     "duration": null,
     "end_time": null,
     "exception": null,
     "start_time": null,
     "status": "pending"
    },
    "tags": []
   },
   "outputs": [],
   "source": [
    "# Training parameters\n",
    "BATCH_SIZE = 128\n",
    "N_MAX_EPOCHS = 50\n",
    "model_id = 'LSTM'\n",
    "n_aheads = [1, 3, 7]\n",
    "\n",
    "N_RUNS = 10\n",
    "\n",
    "# Initialize result dictionaries\n",
    "results_mae = {model_id: {n_ahead: [] for n_ahead in n_aheads}}\n",
    "results_mape = {model_id: {n_ahead: [] for n_ahead in n_aheads}}\n",
    "time_results = {model_id: {n_ahead: [] for n_ahead in n_aheads}}\n",
    "histories = {model_id: {n_ahead: [] for n_ahead in n_aheads}}\n",
    "result_rows = []\n",
    "lstm_models = {}\n",
    "\n",
    "for i in tqdm(range(N_RUNS), desc='RUN: '):\n",
    "    # Process each dataset\n",
    "    for data in output:\n",
    "        match = re.search(r'ws(\\d+)_fh(\\d+)_var(\\d+)', data)\n",
    "        if not match:\n",
    "            print(f\"Không khớp định dạng: {data}\")\n",
    "            continue\n",
    "\n",
    "        ws = int(match.group(1))\n",
    "        n_ahead = int(match.group(2))\n",
    "        n_var = int(match.group(3))\n",
    "        print(f\"ws = {ws}, n_ahead = {n_ahead}, n_var = {n_var}, Data: {data}\")\n",
    "\n",
    "        # Load data\n",
    "        data_dict = output[data]\n",
    "        X_train_scaled = data_dict['X_train']\n",
    "        X_val_scaled = data_dict['X_val']\n",
    "        X_test_scaled = data_dict['X_test']\n",
    "        y_train_scaled = data_dict['y_train']\n",
    "        y_val_scaled = data_dict['y_val']\n",
    "        y_test_scaled = data_dict['y_test']\n",
    "        scaler_y = data_dict['scaler_y']\n",
    "\n",
    "        # Define LSTM model\n",
    "        if n_ahead == 1:\n",
    "            model = Sequential([\n",
    "                Input(shape=X_train_scaled.shape[1:]),\n",
    "                LSTM(units=8,\n",
    "                     return_sequences=False,\n",
    "                     activation='tanh',\n",
    "                     recurrent_activation='sigmoid'),\n",
    "                Dense(units=n_ahead, activation='linear')\n",
    "            ], name=model_id)\n",
    "        elif n_ahead == 3:\n",
    "            model = Sequential([\n",
    "                Input(shape=X_train_scaled.shape[1:]),\n",
    "                LSTM(units=32,\n",
    "                     return_sequences=False,\n",
    "                     activation='tanh',\n",
    "                     recurrent_activation='sigmoid'),\n",
    "                Dense(units=n_ahead, activation='linear')\n",
    "            ], name=model_id)\n",
    "        elif n_ahead == 7:\n",
    "            model = Sequential([\n",
    "                Input(shape=X_train_scaled.shape[1:]),\n",
    "                LSTM(units=64,\n",
    "                     return_sequences=False,\n",
    "                     activation='tanh',\n",
    "                     recurrent_activation='sigmoid'),\n",
    "                Dense(units=n_ahead, activation='linear')\n",
    "            ], name=model_id)\n",
    "        else:\n",
    "            print(f\"Unsupported n_ahead: {n_ahead}\")\n",
    "            continue\n",
    "\n",
    "        # Compile model\n",
    "        optimizer = Adam(0.001)\n",
    "        model.compile(optimizer=optimizer, loss='mse', metrics=['mae'], jit_compile=False)\n",
    "\n",
    "        # Train model\n",
    "        start_time = time.time()\n",
    "        history = model.fit(\n",
    "            X_train_scaled, y_train_scaled,\n",
    "            validation_data=(X_val_scaled, y_val_scaled),\n",
    "            batch_size=BATCH_SIZE,\n",
    "            epochs=N_MAX_EPOCHS,\n",
    "            callbacks=callbacks(),\n",
    "            shuffle=False,\n",
    "            verbose=False\n",
    "        )\n",
    "        end_time = time.time()\n",
    "        training_time = end_time - start_time\n",
    "\n",
    "        # Store history\n",
    "        histories[model_id][n_ahead].append(history.history)\n",
    "\n",
    "        # Predict and inverse scale\n",
    "        preds_scaled = model.predict(X_test_scaled, verbose=False)\n",
    "        preds = scaler_y.inverse_transform(preds_scaled)\n",
    "        y_test_orig = scaler_y.inverse_transform(y_test_scaled)\n",
    "\n",
    "        # Calculate metrics\n",
    "        mae = mean_absolute_error(y_true=y_test_orig, y_pred=preds)\n",
    "        mape = mean_absolute_percentage_error(y_true=y_test_orig, y_pred=preds)\n",
    "\n",
    "        # Store results\n",
    "        results_mae[model_id][n_ahead].append(mae)\n",
    "        results_mape[model_id][n_ahead].append(mape)\n",
    "        time_results[model_id][n_ahead].append(training_time)\n",
    "        run = i\n",
    "\n",
    "        # Store result row for CSV\n",
    "        result_rows.append({\n",
    "            'dataset': data,\n",
    "            'model': model_id,\n",
    "            'n_ahead': n_ahead,\n",
    "            'ws': ws,\n",
    "            'n_var': n_var,\n",
    "            'mae': mae,\n",
    "            'mape': mape,\n",
    "            'training_time': training_time,\n",
    "            'run': i\n",
    "        })\n",
    "\n",
    "        # Print results\n",
    "        print(f\"{model_id} - Time: {training_time:.2f}s, MAE: {mae:.4f}, MAPE: {mape:.2f}%\")\n",
    "        print()\n",
    "        #save model\n",
    "        model_key = f\"{model_id}_{data}\"\n",
    "        lstm_models[model_key] = model\n",
    "\n",
    "        # Clean up\n",
    "        del model\n",
    "        del optimizer\n",
    "\n",
    "# Save results to CSV\n",
    "results_df = pd.DataFrame(result_rows)\n",
    "results_df.to_csv(f'lstm_results.csv', index=False)\n",
    "print(\"LSTM results saved to 'lstm_results.csv'\")\n",
    "\n",
    "with open('lstm_models.pkl', 'wb') as f:\n",
    "    pickle.dump(lstm_models, f)"
   ]
  },
  {
   "cell_type": "code",
   "execution_count": null,
   "id": "78268358",
   "metadata": {
    "id": "h3-jH3VTD8hO",
    "papermill": {
     "duration": null,
     "end_time": null,
     "exception": null,
     "start_time": null,
     "status": "pending"
    },
    "tags": []
   },
   "outputs": [],
   "source": [
    "# calculate avg and save\n",
    "lstm_df = pd.read_csv('lstm_results.csv')\n",
    "runs = lstm_df['run'].unique().tolist()\n",
    "print(runs)\n",
    "lstm_df_sorted = lstm_df.sort_values(by=['run'], ascending=True)\n",
    "\n",
    "\n",
    "# cal avg\n",
    "lstm_avg = lstm_df.groupby(['dataset', 'model', 'ws', 'n_ahead', 'n_var']).agg({\n",
    "    'mae': 'mean',\n",
    "    'mape': 'mean',\n",
    "    'training_time': 'mean'\n",
    "}).reset_index()\n",
    "\n",
    "\n",
    "print(lstm_avg)\n",
    "lstm_avg.to_csv('lstm_avg.csv', index=False)\n"
   ]
  },
  {
   "cell_type": "markdown",
   "id": "d9970039",
   "metadata": {
    "id": "nlqqkyYzKwDo",
    "papermill": {
     "duration": null,
     "end_time": null,
     "exception": null,
     "start_time": null,
     "status": "pending"
    },
    "tags": []
   },
   "source": [
    "# Comparision"
   ]
  },
  {
   "cell_type": "code",
   "execution_count": null,
   "id": "e7595c20",
   "metadata": {
    "id": "lq69flUXyE9K",
    "papermill": {
     "duration": null,
     "end_time": null,
     "exception": null,
     "start_time": null,
     "status": "pending"
    },
    "tags": []
   },
   "outputs": [],
   "source": [
    "import pandas as pd\n",
    "import matplotlib.pyplot as plt\n",
    "import numpy as np\n",
    "\n",
    "def plot_comparison(tkan_df, lstm_df, metric='mae'):\n",
    "    \"\"\"\n",
    "    Plot a bar chart comparing TKAN and LSTM models based on the specified metric.\n",
    "\n",
    "    Parameters:\n",
    "    tkan_df (pd.DataFrame): DataFrame containing TKAN results\n",
    "    lstm_df (pd.DataFrame): DataFrame containing LSTM results\n",
    "    metric (str): Metric to plot on y-axis ('mae' or 'mpae')\n",
    "    \"\"\"\n",
    "    # Gộp lại thành một DataFrame\n",
    "    combined_df = pd.concat([tkan_df, lstm_df], ignore_index=True)\n",
    "\n",
    "    # Lấy danh sách dataset và mô hình\n",
    "    datasets = combined_df['dataset'].unique()\n",
    "    models = ['TKAN', 'LSTM']\n",
    "\n",
    "    # Thiết lập vị trí x\n",
    "    spacing = 1.5\n",
    "    x = np.arange(len(datasets)) * spacing  # Vị trí từng nhóm\n",
    "    bar_width = 0.35  # Độ rộng cột\n",
    "\n",
    "    # Lấy giá trị cho metric được chỉ định\n",
    "    metric_tkan = combined_df[combined_df['model'] == 'TKAN'].set_index('dataset').loc[datasets][metric].values\n",
    "    metric_lstm = combined_df[combined_df['model'] == 'LSTM'].set_index('dataset').loc[datasets][metric].values\n",
    "\n",
    "    # Khởi tạo biểu đồ\n",
    "    fig, ax = plt.subplots(figsize=(16, 6))\n",
    "\n",
    "    # Vẽ từng cột\n",
    "    bar1 = ax.bar(x - bar_width/2, metric_tkan, width=bar_width, label='TKAN', color='tab:blue')\n",
    "    bar2 = ax.bar(x + bar_width/2, metric_lstm, width=bar_width, label='LSTM', color='tab:orange')\n",
    "\n",
    "    # Gán nhãn trên đỉnh cột\n",
    "    annotate_x_spacing = 0.15\n",
    "    for bar in bar1:  # TKAN - màu xanh\n",
    "        height = bar.get_height()\n",
    "        ax.annotate(f'{height:.2f}',\n",
    "                    xy=(bar.get_x() + bar.get_width() / 2, height),\n",
    "                    xytext=(-annotate_x_spacing, 3),  # lệch sang trái\n",
    "                    textcoords=\"offset points\",\n",
    "                    ha='right', va='bottom', fontsize=8)\n",
    "\n",
    "    for bar in bar2:  # LSTM - màu cam\n",
    "        height = bar.get_height()\n",
    "        ax.annotate(f'{height:.2f}',\n",
    "                    xy=(bar.get_x() + bar.get_width() / 2, height),\n",
    "                    xytext=(+annotate_x_spacing, 3),  # lệch sang phải\n",
    "                    textcoords=\"offset points\",\n",
    "                    ha='left', va='bottom', fontsize=8)\n",
    "\n",
    "    # Thiết lập trục và nhãn\n",
    "    ax.set_ylabel(metric.upper())\n",
    "    ax.set_title(f'So sánh {metric.upper()} của TKAN và LSTM theo từng bộ dataset')\n",
    "    ax.set_xticks(x)\n",
    "    ax.set_xticklabels(datasets, rotation=45, ha='right', fontsize=8)\n",
    "    ax.legend(title='Model', loc='upper left')\n",
    "\n",
    "    plt.tight_layout()\n",
    "    plt.savefig(f\"{metric.upper()}\")\n",
    "    plt.show()\n"
   ]
  },
  {
   "cell_type": "code",
   "execution_count": null,
   "id": "de27c32d",
   "metadata": {
    "id": "ue4V2ujyyIaF",
    "papermill": {
     "duration": null,
     "end_time": null,
     "exception": null,
     "start_time": null,
     "status": "pending"
    },
    "tags": []
   },
   "outputs": [],
   "source": [
    "# read data\n",
    "# tkan_df = pd.read_excel('tkan_results.xlsx')\n",
    "tkan_df = pd.read_excel('tkan_results_weighted.xlsx')\n",
    "lstm_df = pd.read_csv('lstm_avg.csv')\n",
    "if 'model' not in tkan_df.columns:\n",
    "    tkan_df['model'] = \"TKAN\"\n",
    "\n",
    "# Vẽ biểu đồ cho MAE\n",
    "plot_comparison(tkan_df, lstm_df, metric='mae')\n",
    "\n",
    "# Vẽ biểu đồ cho MPAE\n",
    "plot_comparison(tkan_df, lstm_df, metric='mape')\n",
    "\n",
    "#time plot\n",
    "plot_comparison(tkan_df, lstm_df, metric='training_time')\n"
   ]
  },
  {
   "cell_type": "code",
   "execution_count": null,
   "id": "d123fbfd",
   "metadata": {
    "id": "URvqGaqE1K7W",
    "papermill": {
     "duration": null,
     "end_time": null,
     "exception": null,
     "start_time": null,
     "status": "pending"
    },
    "tags": []
   },
   "outputs": [],
   "source": [
    "import shutil\n",
    "import os\n",
    "from google.colab import files\n",
    "\n",
    "# Define the name for the directory and zip file\n",
    "save_name = \"batch128_unit8-32-64_dim15-30-40_mae_2subkanlayer\"\n",
    "\n",
    "# Create a new directory in /content with the name save_name\n",
    "save_dir = f\"/content/{save_name}\"\n",
    "os.makedirs(save_dir, exist_ok=True)\n",
    "\n",
    "# List of patterns to exclude\n",
    "exclude_patterns = [\"sample_data\", \".config\", \".zip\"]\n",
    "\n",
    "# Copy all files from /content to the new directory, excluding specified patterns\n",
    "for item in os.listdir(\"/content\"):\n",
    "    if any(pattern in item for pattern in exclude_patterns):\n",
    "        continue\n",
    "    src_path = os.path.join(\"/content\", item)\n",
    "    dst_path = os.path.join(save_dir, item)\n",
    "    # Skip the save_name directory itself to avoid recursive copying\n",
    "    if src_path != save_dir and os.path.isfile(src_path):\n",
    "        shutil.copy2(src_path, dst_path)\n",
    "    elif os.path.isdir(src_path) and src_path != save_dir:\n",
    "        shutil.copytree(src_path, dst_path, dirs_exist_ok=True)\n",
    "\n",
    "# Create a zip file of the save_name directory\n",
    "zip_path = f\"/content/{save_name}.zip\"\n",
    "shutil.make_archive(f\"/content/{save_name}\", 'zip', save_dir)\n",
    "\n",
    "# # Download the zip file\n",
    "# files.download(zip_path)\n",
    "\n",
    "# # Delete the save_name directory from /content\n",
    "# shutil.rmtree(save_dir)\n",
    "\n",
    "print(f\"Directory {save_name} copied, zipped, downloaded, and deleted successfully.\")"
   ]
  },
  {
   "cell_type": "code",
   "execution_count": null,
   "id": "c9238fd8",
   "metadata": {
    "id": "bdXSm5zF709F",
    "papermill": {
     "duration": null,
     "end_time": null,
     "exception": null,
     "start_time": null,
     "status": "pending"
    },
    "tags": []
   },
   "outputs": [],
   "source": [
    "import pandas as pd\n",
    "import numpy as np\n",
    "import matplotlib.pyplot as plt\n",
    "def plot_comparison(tkan_df, baseline_df, metric='mae'):\n",
    "    # Gộp lại thành một DataFrame\n",
    "    combined_df = pd.concat([tkan_df, baseline_df], ignore_index=True)\n",
    "\n",
    "    # Lấy danh sách dataset và mô hình\n",
    "    datasets = combined_df['dataset'].unique()\n",
    "    models = ['TKAN', 'Baseline']\n",
    "\n",
    "    # Thiết lập vị trí x\n",
    "    spacing = 1.5\n",
    "    x = np.arange(len(datasets)) * spacing  # Vị trí từng nhóm\n",
    "    bar_width = 0.35  # Độ rộng cột\n",
    "\n",
    "    # Lấy giá trị cho metric được chỉ định\n",
    "    metric_tkan = combined_df[combined_df['model'] == 'TKAN'].set_index('dataset').loc[datasets][metric].values\n",
    "    metric_lstm = combined_df[combined_df['model'] == 'Baseline'].set_index('dataset').loc[datasets][metric].values\n",
    "\n",
    "    # Khởi tạo biểu đồ\n",
    "    fig, ax = plt.subplots(figsize=(16, 6))\n",
    "\n",
    "    # Vẽ từng cột\n",
    "    bar1 = ax.bar(x - bar_width/2, metric_tkan, width=bar_width, label='TKAN', color='tab:blue')\n",
    "    bar2 = ax.bar(x + bar_width/2, metric_lstm, width=bar_width, label='Baseline', color='tab:orange')\n",
    "\n",
    "    # Gán nhãn trên đỉnh cột\n",
    "    annotate_x_spacing = 0.15\n",
    "    for bar in bar1:  # TKAN - màu xanh\n",
    "        height = bar.get_height()\n",
    "        ax.annotate(f'{height:.2f}',\n",
    "                    xy=(bar.get_x() + bar.get_width() / 2, height),\n",
    "                    xytext=(-annotate_x_spacing, 3),  # lệch sang trái\n",
    "                    textcoords=\"offset points\",\n",
    "                    ha='right', va='bottom', fontsize=8)\n",
    "\n",
    "    for bar in bar2:  # LSTM - màu cam\n",
    "        height = bar.get_height()\n",
    "        ax.annotate(f'{height:.2f}',\n",
    "                    xy=(bar.get_x() + bar.get_width() / 2, height),\n",
    "                    xytext=(+annotate_x_spacing, 3),  # lệch sang phải\n",
    "                    textcoords=\"offset points\",\n",
    "                    ha='left', va='bottom', fontsize=8)\n",
    "\n",
    "    # Thiết lập trục và nhãn\n",
    "    ax.set_ylabel(metric.upper())\n",
    "    ax.set_title(f'So sánh {metric.upper()} của TKAN và LSTM theo từng bộ dataset')\n",
    "    ax.set_xticks(x)\n",
    "    ax.set_xticklabels(datasets, rotation=45, ha='right', fontsize=8)\n",
    "    ax.legend(title='Model', loc='upper left')\n",
    "\n",
    "    plt.tight_layout()\n",
    "    plt.savefig(f\"{metric.upper()}\")\n",
    "    plt.show()\n",
    "\n",
    "\n",
    "\n",
    "# read data\n",
    "tkan_df = pd.read_csv('tkan_results.csv')\n",
    "baseline_df = pd.read_csv('baseline_results.csv')\n",
    "baseline_df['model'] = 'Baseline'\n",
    "\n",
    "# Vẽ biểu đồ cho MAE\n",
    "plot_comparison(tkan_df, baseline_df, metric='mae')\n",
    "\n",
    "# Vẽ biểu đồ cho MPAE\n",
    "plot_comparison(tkan_df, baseline_df, metric='mape')"
   ]
  }
 ],
 "metadata": {
  "accelerator": "GPU",
  "colab": {
   "gpuType": "T4",
   "provenance": []
  },
  "kaggle": {
   "accelerator": "nvidiaTeslaT4",
   "dataSources": [
    {
     "datasetId": 7387279,
     "sourceId": 11767068,
     "sourceType": "datasetVersion"
    }
   ],
   "dockerImageVersionId": 31040,
   "isGpuEnabled": true,
   "isInternetEnabled": true,
   "language": "python",
   "sourceType": "notebook"
  },
  "kernelspec": {
   "display_name": "Python 3",
   "name": "python3"
  },
  "language_info": {
   "codemirror_mode": {
    "name": "ipython",
    "version": 3
   },
   "file_extension": ".py",
   "mimetype": "text/x-python",
   "name": "python",
   "nbconvert_exporter": "python",
   "pygments_lexer": "ipython3",
   "version": "3.11.11"
  },
  "papermill": {
   "default_parameters": {},
   "duration": 7.281495,
   "end_time": "2025-05-30T15:02:47.205480",
   "environment_variables": {},
   "exception": true,
   "input_path": "__notebook__.ipynb",
   "output_path": "__notebook__.ipynb",
   "parameters": {},
   "start_time": "2025-05-30T15:02:39.923985",
   "version": "2.6.0"
  }
 },
 "nbformat": 4,
 "nbformat_minor": 5
}
